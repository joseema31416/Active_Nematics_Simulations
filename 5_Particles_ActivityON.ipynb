{
 "cells": [
  {
   "cell_type": "code",
   "execution_count": 60,
   "metadata": {},
   "outputs": [
    {
     "name": "stdout",
     "output_type": "stream",
     "text": [
      "notice(2): Group \"all\" created containing 1000 particles\n"
     ]
    }
   ],
   "source": [
    "# # Active Nematics Simulations Test\n",
    "\n",
    "from __future__ import division\n",
    "import hoomd\n",
    "import hoomd.md\n",
    "import orientation_analysis as oa\n",
    "import numpy as np\n",
    "\n",
    "#-----Define relevant variables\n",
    "\n",
    "p_max = 1.0;\n",
    "t_max = 6.0;\n",
    "copies = 1;\n",
    "init_file = \"T_CM_\" + str(t_max) + \"_P_\" + str(p_max) + \"_init.gsd\"\n",
    "\n",
    "#-----Coupling Constants\n",
    "\n",
    "tau1 = 10.0\n",
    "\n",
    "#-----Define a simulation context\n",
    "\n",
    "hoomd.context.initialize(\"\");\n",
    "\n",
    "#-----Extract the configuration of the system and expand the system\n",
    "\n",
    "snap = hoomd.data.gsd_snapshot(init_file, frame = -1);\n",
    "snap.replicate(copies,copies,copies);\n",
    "system = hoomd.init.read_snapshot(snap);"
   ]
  },
  {
   "cell_type": "code",
   "execution_count": 61,
   "metadata": {},
   "outputs": [],
   "source": [
    "for i in range(int(len(system.particles)-10)):\n",
    "    del system.particles[1]"
   ]
  },
  {
   "cell_type": "code",
   "execution_count": 62,
   "metadata": {},
   "outputs": [
    {
     "name": "stdout",
     "output_type": "stream",
     "text": [
      "notice(2): constrain.rigid(): Creating 10 rigid bodies (adding 80 particles)\n",
      "-----\n",
      "You are using tree neighbor lists. Please cite the following:\n",
      "* M P Howard, J A Anderson, A Nikoubashman, S C Glotzer, and A Z\n",
      "  Panagiotopoulos. \"Efficient neighbor list calculation for molecular simulation\n",
      "  of colloidal systems using graphics processing units\", Computer Physics\n",
      "  Communications 203 (2016) 45--52\n",
      "* M P Howard, A Statt, F Madutsa, T M Truskett, and A Z Panagiotopoulos.\n",
      "  \"Quantized bounding volume hierarchies for neighbor search in molecular\n",
      "  simulations on graphics processing units\", Computational Materials Science 164\n",
      "  (2019) 139--146\n",
      "-----\n"
     ]
    }
   ],
   "source": [
    "#-----Define each mesogen in the local reference frame of each center of mass\n",
    "\n",
    "rigid = hoomd.md.constrain.rigid();\n",
    "rigid.set_param('M', \n",
    "               types = ['A']*8,\n",
    "               positions = [(-4,0,0),(-3,0,0),(-2,0,0),(-1,0,0),\n",
    "                            (1,0,0),(2,0,0),(3,0,0),(4,0,0)]);\n",
    "\n",
    "#-----Declare molecules as rigid bodies\n",
    "\n",
    "rigid.create_bodies();\n",
    "\n",
    "#-----Define the potential energy\n",
    "\n",
    "nl = hoomd.md.nlist.tree();\n",
    "lj = hoomd.md.pair.lj(r_cut = 3.5, nlist = nl);\n",
    "lj.set_params(mode = 'shift')\n",
    "\n",
    "#------Define the interaction\n",
    "\n",
    "lj.pair_coeff.set('NP','NP', epsilon = 1.0, sigma = 5.0);\n",
    "lj.pair_coeff.set('M' , 'M', epsilon = 1.0, sigma = 1.0);\n",
    "lj.pair_coeff.set('A' , 'A', epsilon = 1.0, sigma = 1.0);\n",
    "lj.pair_coeff.set('M' , 'A', epsilon = 1.0, sigma = 1.0);\n",
    "lj.pair_coeff.set('NP', 'M', epsilon = 1.0, sigma = 3.0);\n",
    "lj.pair_coeff.set('NP', 'A', epsilon = 1.0, sigma = 3.0);"
   ]
  },
  {
   "cell_type": "code",
   "execution_count": 63,
   "metadata": {},
   "outputs": [
    {
     "name": "stdout",
     "output_type": "stream",
     "text": [
      "notice(2): Group \"NPs\" created containing 0 particles\n",
      "notice(2): Group \"rigid_center\" created containing 10 particles\n",
      "notice(2): Group \"NP_Mes\" created containing 10 particles\n"
     ]
    }
   ],
   "source": [
    "#------Define activity parameters\n",
    "#-----Define some groups and make their union\n",
    "\n",
    "nanoparticles = hoomd.group.type(name = 'NPs', type = 'NP');\n",
    "mesogens = hoomd.group.rigid_center();\n",
    "groupNP_mes = hoomd.group.union(name = 'NP_Mes', a = nanoparticles, b = mesogens);\n",
    "\n",
    "all = hoomd.group.all();\n",
    "N = len(mesogens);\n",
    "q_activity = [];\n",
    "\n",
    "for i in range(N):\n",
    "    q_orientation = oa.quat_rotate(np.array(system.particles[i].orientation), np.array([1,0,0]))\n",
    "    q_activity.append(q_orientation)\n",
    "activity = list(map(tuple, q_activity))"
   ]
  },
  {
   "cell_type": "code",
   "execution_count": 64,
   "metadata": {},
   "outputs": [],
   "source": [
    "#activityy = system.particles[0].orientation\n",
    "\n",
    "hoomd.md.force.active(group = mesogens,\n",
    "                      seed  = 137,\n",
    "                      f_lst = activity,\n",
    "                      orientation_link = False,\n",
    "                      orientation_reverse_link=True);"
   ]
  },
  {
   "cell_type": "code",
   "execution_count": 65,
   "metadata": {},
   "outputs": [
    {
     "name": "stdout",
     "output_type": "stream",
     "text": [
      "notice(2): -- Neighborlist exclusion statistics -- :\n",
      "notice(2): Particles with 0 exclusions             : 90\n",
      "notice(2): Neighbors included by diameter          : no\n",
      "notice(2): Neighbors excluded when in the same body: yes\n",
      "** starting run **\n",
      "Time 00:00:09 | Step 200000 / 200000 | TPS 21500.9 | ETA 00:00:00\n",
      "Average TPS: 21496.7\n",
      "---------\n",
      "-- Neighborlist stats:\n",
      "1214 normal updates / 2000 forced updates / 0 dangerous updates\n",
      "n_neigh_min: 0 / n_neigh_max: 20 / n_neigh_avg: 5.34444\n",
      "shortest rebuild period: 1\n",
      "** run complete **\n"
     ]
    }
   ],
   "source": [
    "#------Select an standar integrator\n",
    "\n",
    "hoomd.md.integrate.mode_standard(dt = 0.005);\n",
    "\n",
    "#-----Integrate using NVT\n",
    "\n",
    "npt = hoomd.md. integrate.nvt(group = groupNP_mes, kT = t_max, tau = tau1);\n",
    "\n",
    "#-----Save data\n",
    "\n",
    "log_file = \"AN_T_\" + str(t_max) + \"_P_\" + str(p_max) + \"_ActivityON_OLFalse.log\"\n",
    "gsd_file = \"AN_T_\" + str(t_max) + \"_P_\" + str(p_max) + \"_ActivityON_OLFalse.gsd\"\n",
    "meso_gsd_file = \"AN_T_CM_\" + str(t_max) + \"_P_\" + str(p_max) + \"_ActivityON_OLFalse.gsd\"\n",
    "\n",
    "log = hoomd.analyze.log(filename = log_file,\n",
    "                       quantities = ['num_particles', \n",
    "                                    'ndof',\n",
    "                                    'translational_ndof',\n",
    "                                    'rotational_ndof',\n",
    "                                    'potential_energy',\n",
    "                                    'kinetic_energy',\n",
    "                                    'translational_kinetic_energy',\n",
    "                                    'rotational_kinetic_energy',\n",
    "                                    'temperature',\n",
    "                                    'pressure',\n",
    "                                    'volume'],\n",
    "                       period = 1e3,\n",
    "                       overwrite = True);\n",
    "gsd = hoomd.dump.gsd(gsd_file, period = 1e3, group = hoomd.group.all(), overwrite = True);\n",
    "meso_gsd = hoomd.dump.gsd(meso_gsd_file, period = 1e3, group = groupNP_mes, overwrite = True);\n",
    "\n",
    "#-----Run the simulation\n",
    "\n",
    "hoomd.run(2e5)"
   ]
  }
 ],
 "metadata": {
  "kernelspec": {
   "display_name": "Python 3",
   "language": "python",
   "name": "python3"
  },
  "language_info": {
   "codemirror_mode": {
    "name": "ipython",
    "version": 3
   },
   "file_extension": ".py",
   "mimetype": "text/x-python",
   "name": "python",
   "nbconvert_exporter": "python",
   "pygments_lexer": "ipython3",
   "version": "3.8.5"
  }
 },
 "nbformat": 4,
 "nbformat_minor": 4
}
